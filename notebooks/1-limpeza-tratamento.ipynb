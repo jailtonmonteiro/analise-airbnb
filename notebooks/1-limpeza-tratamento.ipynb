{
 "cells": [
  {
   "cell_type": "markdown",
   "id": "82f06bc3",
   "metadata": {},
   "source": [
    "# Limpeza e Tratamento de Dados"
   ]
  },
  {
   "cell_type": "code",
   "execution_count": 2,
   "id": "adbd5ef2",
   "metadata": {},
   "outputs": [],
   "source": [
    "import pandas as pd\n",
    "import matplotlib.pyplot as plt"
   ]
  },
  {
   "cell_type": "code",
   "execution_count": 3,
   "id": "a61ed58d",
   "metadata": {},
   "outputs": [],
   "source": [
    "dados = '../data/raw/airbnb-rio.csv'"
   ]
  },
  {
   "cell_type": "code",
   "execution_count": 4,
   "id": "b8f26a5b",
   "metadata": {},
   "outputs": [
    {
     "data": {
      "text/html": [
       "<div>\n",
       "<style scoped>\n",
       "    .dataframe tbody tr th:only-of-type {\n",
       "        vertical-align: middle;\n",
       "    }\n",
       "\n",
       "    .dataframe tbody tr th {\n",
       "        vertical-align: top;\n",
       "    }\n",
       "\n",
       "    .dataframe thead th {\n",
       "        text-align: right;\n",
       "    }\n",
       "</style>\n",
       "<table border=\"1\" class=\"dataframe\">\n",
       "  <thead>\n",
       "    <tr style=\"text-align: right;\">\n",
       "      <th></th>\n",
       "      <th>id</th>\n",
       "      <th>name</th>\n",
       "      <th>host_id</th>\n",
       "      <th>host_name</th>\n",
       "      <th>neighbourhood_group</th>\n",
       "      <th>neighbourhood</th>\n",
       "      <th>latitude</th>\n",
       "      <th>longitude</th>\n",
       "      <th>room_type</th>\n",
       "      <th>price</th>\n",
       "      <th>minimum_nights</th>\n",
       "      <th>number_of_reviews</th>\n",
       "      <th>last_review</th>\n",
       "      <th>reviews_per_month</th>\n",
       "      <th>calculated_host_listings_count</th>\n",
       "      <th>availability_365</th>\n",
       "      <th>number_of_reviews_ltm</th>\n",
       "      <th>license</th>\n",
       "    </tr>\n",
       "  </thead>\n",
       "  <tbody>\n",
       "    <tr>\n",
       "      <th>0</th>\n",
       "      <td>2302715</td>\n",
       "      <td>guilherme</td>\n",
       "      <td>11706874</td>\n",
       "      <td>Guilherme</td>\n",
       "      <td>NaN</td>\n",
       "      <td>Anil</td>\n",
       "      <td>-22.95221</td>\n",
       "      <td>-43.32944</td>\n",
       "      <td>Entire home/apt</td>\n",
       "      <td>2700.0</td>\n",
       "      <td>10</td>\n",
       "      <td>0</td>\n",
       "      <td>NaN</td>\n",
       "      <td>NaN</td>\n",
       "      <td>1</td>\n",
       "      <td>365</td>\n",
       "      <td>0</td>\n",
       "      <td>NaN</td>\n",
       "    </tr>\n",
       "    <tr>\n",
       "      <th>1</th>\n",
       "      <td>2304688</td>\n",
       "      <td>OLIMPÍADAS 2016</td>\n",
       "      <td>10405816</td>\n",
       "      <td>Eurico</td>\n",
       "      <td>NaN</td>\n",
       "      <td>Ipanema</td>\n",
       "      <td>-22.98767</td>\n",
       "      <td>-43.18991</td>\n",
       "      <td>Entire home/apt</td>\n",
       "      <td>837.0</td>\n",
       "      <td>7</td>\n",
       "      <td>0</td>\n",
       "      <td>NaN</td>\n",
       "      <td>NaN</td>\n",
       "      <td>1</td>\n",
       "      <td>365</td>\n",
       "      <td>0</td>\n",
       "      <td>NaN</td>\n",
       "    </tr>\n",
       "    <tr>\n",
       "      <th>2</th>\n",
       "      <td>2306547</td>\n",
       "      <td>Amplo Apto com 3 Dormitórios em Copacabana - 1...</td>\n",
       "      <td>4107346</td>\n",
       "      <td>Vera Lucia</td>\n",
       "      <td>NaN</td>\n",
       "      <td>Copacabana</td>\n",
       "      <td>-22.97333</td>\n",
       "      <td>-43.18857</td>\n",
       "      <td>Entire home/apt</td>\n",
       "      <td>800.0</td>\n",
       "      <td>5</td>\n",
       "      <td>13</td>\n",
       "      <td>2025-03-05</td>\n",
       "      <td>0.21</td>\n",
       "      <td>1</td>\n",
       "      <td>257</td>\n",
       "      <td>3</td>\n",
       "      <td>NaN</td>\n",
       "    </tr>\n",
       "    <tr>\n",
       "      <th>3</th>\n",
       "      <td>2306767</td>\n",
       "      <td>Studio in Copacabana Beach</td>\n",
       "      <td>11386725</td>\n",
       "      <td>Carolina</td>\n",
       "      <td>NaN</td>\n",
       "      <td>Copacabana</td>\n",
       "      <td>-22.96477</td>\n",
       "      <td>-43.17605</td>\n",
       "      <td>Entire home/apt</td>\n",
       "      <td>190.0</td>\n",
       "      <td>3</td>\n",
       "      <td>193</td>\n",
       "      <td>2025-03-03</td>\n",
       "      <td>1.44</td>\n",
       "      <td>6</td>\n",
       "      <td>66</td>\n",
       "      <td>19</td>\n",
       "      <td>NaN</td>\n",
       "    </tr>\n",
       "    <tr>\n",
       "      <th>4</th>\n",
       "      <td>2308385</td>\n",
       "      <td>Copacabana Ótima opção!</td>\n",
       "      <td>11788583</td>\n",
       "      <td>Ivan</td>\n",
       "      <td>NaN</td>\n",
       "      <td>Copacabana</td>\n",
       "      <td>-22.96820</td>\n",
       "      <td>-43.18523</td>\n",
       "      <td>Entire home/apt</td>\n",
       "      <td>220.0</td>\n",
       "      <td>2</td>\n",
       "      <td>28</td>\n",
       "      <td>2025-03-01</td>\n",
       "      <td>0.21</td>\n",
       "      <td>1</td>\n",
       "      <td>242</td>\n",
       "      <td>4</td>\n",
       "      <td>NaN</td>\n",
       "    </tr>\n",
       "  </tbody>\n",
       "</table>\n",
       "</div>"
      ],
      "text/plain": [
       "        id                                               name   host_id  \\\n",
       "0  2302715                                          guilherme  11706874   \n",
       "1  2304688                                    OLIMPÍADAS 2016  10405816   \n",
       "2  2306547  Amplo Apto com 3 Dormitórios em Copacabana - 1...   4107346   \n",
       "3  2306767                         Studio in Copacabana Beach  11386725   \n",
       "4  2308385                            Copacabana Ótima opção!  11788583   \n",
       "\n",
       "    host_name  neighbourhood_group neighbourhood  latitude  longitude  \\\n",
       "0   Guilherme                  NaN          Anil -22.95221  -43.32944   \n",
       "1      Eurico                  NaN       Ipanema -22.98767  -43.18991   \n",
       "2  Vera Lucia                  NaN    Copacabana -22.97333  -43.18857   \n",
       "3    Carolina                  NaN    Copacabana -22.96477  -43.17605   \n",
       "4        Ivan                  NaN    Copacabana -22.96820  -43.18523   \n",
       "\n",
       "         room_type   price  minimum_nights  number_of_reviews last_review  \\\n",
       "0  Entire home/apt  2700.0              10                  0         NaN   \n",
       "1  Entire home/apt   837.0               7                  0         NaN   \n",
       "2  Entire home/apt   800.0               5                 13  2025-03-05   \n",
       "3  Entire home/apt   190.0               3                193  2025-03-03   \n",
       "4  Entire home/apt   220.0               2                 28  2025-03-01   \n",
       "\n",
       "   reviews_per_month  calculated_host_listings_count  availability_365  \\\n",
       "0                NaN                               1               365   \n",
       "1                NaN                               1               365   \n",
       "2               0.21                               1               257   \n",
       "3               1.44                               6                66   \n",
       "4               0.21                               1               242   \n",
       "\n",
       "   number_of_reviews_ltm  license  \n",
       "0                      0      NaN  \n",
       "1                      0      NaN  \n",
       "2                      3      NaN  \n",
       "3                     19      NaN  \n",
       "4                      4      NaN  "
      ]
     },
     "execution_count": 4,
     "metadata": {},
     "output_type": "execute_result"
    }
   ],
   "source": [
    "df = pd.read_csv(dados, sep=',', encoding='utf-8')\n",
    "df.head()"
   ]
  },
  {
   "cell_type": "code",
   "execution_count": 5,
   "id": "b2e0247a",
   "metadata": {},
   "outputs": [
    {
     "name": "stdout",
     "output_type": "stream",
     "text": [
      "<class 'pandas.core.frame.DataFrame'>\n",
      "RangeIndex: 42013 entries, 0 to 42012\n",
      "Data columns (total 18 columns):\n",
      " #   Column                          Non-Null Count  Dtype  \n",
      "---  ------                          --------------  -----  \n",
      " 0   id                              42013 non-null  int64  \n",
      " 1   name                            42013 non-null  object \n",
      " 2   host_id                         42013 non-null  int64  \n",
      " 3   host_name                       42008 non-null  object \n",
      " 4   neighbourhood_group             0 non-null      float64\n",
      " 5   neighbourhood                   42013 non-null  object \n",
      " 6   latitude                        42013 non-null  float64\n",
      " 7   longitude                       42013 non-null  float64\n",
      " 8   room_type                       42013 non-null  object \n",
      " 9   price                           38356 non-null  float64\n",
      " 10  minimum_nights                  42013 non-null  int64  \n",
      " 11  number_of_reviews               42013 non-null  int64  \n",
      " 12  last_review                     33140 non-null  object \n",
      " 13  reviews_per_month               33140 non-null  float64\n",
      " 14  calculated_host_listings_count  42013 non-null  int64  \n",
      " 15  availability_365                42013 non-null  int64  \n",
      " 16  number_of_reviews_ltm           42013 non-null  int64  \n",
      " 17  license                         0 non-null      float64\n",
      "dtypes: float64(6), int64(7), object(5)\n",
      "memory usage: 5.8+ MB\n"
     ]
    }
   ],
   "source": [
    "df.info()"
   ]
  },
  {
   "cell_type": "code",
   "execution_count": 6,
   "id": "ba80cb55",
   "metadata": {},
   "outputs": [
    {
     "data": {
      "text/plain": [
       "id                                    0\n",
       "name                                  0\n",
       "host_id                               0\n",
       "host_name                             5\n",
       "neighbourhood_group               42013\n",
       "neighbourhood                         0\n",
       "latitude                              0\n",
       "longitude                             0\n",
       "room_type                             0\n",
       "price                              3657\n",
       "minimum_nights                        0\n",
       "number_of_reviews                     0\n",
       "last_review                        8873\n",
       "reviews_per_month                  8873\n",
       "calculated_host_listings_count        0\n",
       "availability_365                      0\n",
       "number_of_reviews_ltm                 0\n",
       "license                           42013\n",
       "dtype: int64"
      ]
     },
     "execution_count": 6,
     "metadata": {},
     "output_type": "execute_result"
    }
   ],
   "source": [
    "df.isnull().sum()"
   ]
  },
  {
   "cell_type": "code",
   "execution_count": 7,
   "id": "757f5034",
   "metadata": {},
   "outputs": [
    {
     "data": {
      "text/plain": [
       "<Axes: >"
      ]
     },
     "execution_count": 7,
     "metadata": {},
     "output_type": "execute_result"
    },
    {
     "data": {
      "image/png": "[encoded data removed]",
      "text/plain": [
       "<Figure size 640x480 with 1 Axes>"
      ]
     },
     "metadata": {},
     "output_type": "display_data"
    }
   ],
   "source": [
    "df['price'].plot(kind='box')"
   ]
  },
  {
   "cell_type": "code",
   "execution_count": 8,
   "id": "0118b4d6",
   "metadata": {},
   "outputs": [
    {
     "data": {
      "text/plain": [
       "count     38356.000000\n",
       "mean        720.284832\n",
       "std        4165.194984\n",
       "min          30.000000\n",
       "25%         220.000000\n",
       "50%         343.000000\n",
       "75%         600.000000\n",
       "max      500000.000000\n",
       "Name: price, dtype: float64"
      ]
     },
     "execution_count": 8,
     "metadata": {},
     "output_type": "execute_result"
    }
   ],
   "source": [
    "df['price'].describe()"
   ]
  },
  {
   "cell_type": "code",
   "execution_count": 9,
   "id": "c812b31d",
   "metadata": {},
   "outputs": [],
   "source": [
    "df['price'] = df['price'].fillna(df['price'].median())"
   ]
  },
  {
   "cell_type": "code",
   "execution_count": 10,
   "id": "c1f72e52",
   "metadata": {},
   "outputs": [
    {
     "data": {
      "text/plain": [
       "count     42013.000000\n",
       "mean        687.444267\n",
       "std        3981.206307\n",
       "min          30.000000\n",
       "25%         229.000000\n",
       "50%         343.000000\n",
       "75%         566.000000\n",
       "max      500000.000000\n",
       "Name: price, dtype: float64"
      ]
     },
     "execution_count": 10,
     "metadata": {},
     "output_type": "execute_result"
    }
   ],
   "source": [
    "df['price'].describe()"
   ]
  },
  {
   "cell_type": "code",
   "execution_count": 11,
   "id": "fd73a613",
   "metadata": {},
   "outputs": [
    {
     "data": {
      "text/plain": [
       "count    33140.000000\n",
       "mean         1.263767\n",
       "std          1.277616\n",
       "min          0.010000\n",
       "25%          0.320000\n",
       "50%          0.930000\n",
       "75%          1.860000\n",
       "max         13.650000\n",
       "Name: reviews_per_month, dtype: float64"
      ]
     },
     "execution_count": 11,
     "metadata": {},
     "output_type": "execute_result"
    }
   ],
   "source": [
    "df['reviews_per_month'].describe()"
   ]
  },
  {
   "cell_type": "code",
   "execution_count": 12,
   "id": "a518f503",
   "metadata": {},
   "outputs": [],
   "source": [
    "df['reviews_per_month'] = df['reviews_per_month'].fillna(df['reviews_per_month'].mean())"
   ]
  },
  {
   "cell_type": "code",
   "execution_count": 13,
   "id": "94f144be",
   "metadata": {},
   "outputs": [
    {
     "data": {
      "text/plain": [
       "id                                    0\n",
       "name                                  0\n",
       "host_id                               0\n",
       "host_name                             5\n",
       "neighbourhood_group               42013\n",
       "neighbourhood                         0\n",
       "latitude                              0\n",
       "longitude                             0\n",
       "room_type                             0\n",
       "price                                 0\n",
       "minimum_nights                        0\n",
       "number_of_reviews                     0\n",
       "last_review                        8873\n",
       "reviews_per_month                     0\n",
       "calculated_host_listings_count        0\n",
       "availability_365                      0\n",
       "number_of_reviews_ltm                 0\n",
       "license                           42013\n",
       "dtype: int64"
      ]
     },
     "execution_count": 13,
     "metadata": {},
     "output_type": "execute_result"
    }
   ],
   "source": [
    "df.isnull().sum()"
   ]
  },
  {
   "cell_type": "code",
   "execution_count": 14,
   "id": "3427dd2e",
   "metadata": {},
   "outputs": [],
   "source": [
    "df = df.drop(columns=['neighbourhood_group','license'])\n",
    "df['host_name'] = df['host_name'].fillna('Nao Informado')"
   ]
  },
  {
   "cell_type": "code",
   "execution_count": 15,
   "id": "6b160805",
   "metadata": {},
   "outputs": [
    {
     "data": {
      "text/plain": [
       "id                                   0\n",
       "name                                 0\n",
       "host_id                              0\n",
       "host_name                            0\n",
       "neighbourhood                        0\n",
       "latitude                             0\n",
       "longitude                            0\n",
       "room_type                            0\n",
       "price                                0\n",
       "minimum_nights                       0\n",
       "number_of_reviews                    0\n",
       "last_review                       8873\n",
       "reviews_per_month                    0\n",
       "calculated_host_listings_count       0\n",
       "availability_365                     0\n",
       "number_of_reviews_ltm                0\n",
       "dtype: int64"
      ]
     },
     "execution_count": 15,
     "metadata": {},
     "output_type": "execute_result"
    }
   ],
   "source": [
    "df.isnull().sum()"
   ]
  },
  {
   "cell_type": "code",
   "execution_count": 16,
   "id": "067ea159",
   "metadata": {},
   "outputs": [
    {
     "data": {
      "text/html": [
       "<div>\n",
       "<style scoped>\n",
       "    .dataframe tbody tr th:only-of-type {\n",
       "        vertical-align: middle;\n",
       "    }\n",
       "\n",
       "    .dataframe tbody tr th {\n",
       "        vertical-align: top;\n",
       "    }\n",
       "\n",
       "    .dataframe thead th {\n",
       "        text-align: right;\n",
       "    }\n",
       "</style>\n",
       "<table border=\"1\" class=\"dataframe\">\n",
       "  <thead>\n",
       "    <tr style=\"text-align: right;\">\n",
       "      <th></th>\n",
       "      <th>id</th>\n",
       "      <th>name</th>\n",
       "      <th>host_id</th>\n",
       "      <th>host_name</th>\n",
       "      <th>neighbourhood</th>\n",
       "      <th>latitude</th>\n",
       "      <th>longitude</th>\n",
       "      <th>room_type</th>\n",
       "      <th>price</th>\n",
       "      <th>minimum_nights</th>\n",
       "      <th>number_of_reviews</th>\n",
       "      <th>last_review</th>\n",
       "      <th>reviews_per_month</th>\n",
       "      <th>calculated_host_listings_count</th>\n",
       "      <th>availability_365</th>\n",
       "      <th>number_of_reviews_ltm</th>\n",
       "    </tr>\n",
       "  </thead>\n",
       "  <tbody>\n",
       "    <tr>\n",
       "      <th>0</th>\n",
       "      <td>2302715</td>\n",
       "      <td>guilherme</td>\n",
       "      <td>11706874</td>\n",
       "      <td>Guilherme</td>\n",
       "      <td>Anil</td>\n",
       "      <td>-22.95221</td>\n",
       "      <td>-43.32944</td>\n",
       "      <td>Entire home/apt</td>\n",
       "      <td>2700.0</td>\n",
       "      <td>10</td>\n",
       "      <td>0</td>\n",
       "      <td>NaN</td>\n",
       "      <td>1.263767</td>\n",
       "      <td>1</td>\n",
       "      <td>365</td>\n",
       "      <td>0</td>\n",
       "    </tr>\n",
       "    <tr>\n",
       "      <th>1</th>\n",
       "      <td>2304688</td>\n",
       "      <td>OLIMPÍADAS 2016</td>\n",
       "      <td>10405816</td>\n",
       "      <td>Eurico</td>\n",
       "      <td>Ipanema</td>\n",
       "      <td>-22.98767</td>\n",
       "      <td>-43.18991</td>\n",
       "      <td>Entire home/apt</td>\n",
       "      <td>837.0</td>\n",
       "      <td>7</td>\n",
       "      <td>0</td>\n",
       "      <td>NaN</td>\n",
       "      <td>1.263767</td>\n",
       "      <td>1</td>\n",
       "      <td>365</td>\n",
       "      <td>0</td>\n",
       "    </tr>\n",
       "    <tr>\n",
       "      <th>2</th>\n",
       "      <td>2306547</td>\n",
       "      <td>Amplo Apto com 3 Dormitórios em Copacabana - 1...</td>\n",
       "      <td>4107346</td>\n",
       "      <td>Vera Lucia</td>\n",
       "      <td>Copacabana</td>\n",
       "      <td>-22.97333</td>\n",
       "      <td>-43.18857</td>\n",
       "      <td>Entire home/apt</td>\n",
       "      <td>800.0</td>\n",
       "      <td>5</td>\n",
       "      <td>13</td>\n",
       "      <td>2025-03-05</td>\n",
       "      <td>0.210000</td>\n",
       "      <td>1</td>\n",
       "      <td>257</td>\n",
       "      <td>3</td>\n",
       "    </tr>\n",
       "    <tr>\n",
       "      <th>3</th>\n",
       "      <td>2306767</td>\n",
       "      <td>Studio in Copacabana Beach</td>\n",
       "      <td>11386725</td>\n",
       "      <td>Carolina</td>\n",
       "      <td>Copacabana</td>\n",
       "      <td>-22.96477</td>\n",
       "      <td>-43.17605</td>\n",
       "      <td>Entire home/apt</td>\n",
       "      <td>190.0</td>\n",
       "      <td>3</td>\n",
       "      <td>193</td>\n",
       "      <td>2025-03-03</td>\n",
       "      <td>1.440000</td>\n",
       "      <td>6</td>\n",
       "      <td>66</td>\n",
       "      <td>19</td>\n",
       "    </tr>\n",
       "    <tr>\n",
       "      <th>4</th>\n",
       "      <td>2308385</td>\n",
       "      <td>Copacabana Ótima opção!</td>\n",
       "      <td>11788583</td>\n",
       "      <td>Ivan</td>\n",
       "      <td>Copacabana</td>\n",
       "      <td>-22.96820</td>\n",
       "      <td>-43.18523</td>\n",
       "      <td>Entire home/apt</td>\n",
       "      <td>220.0</td>\n",
       "      <td>2</td>\n",
       "      <td>28</td>\n",
       "      <td>2025-03-01</td>\n",
       "      <td>0.210000</td>\n",
       "      <td>1</td>\n",
       "      <td>242</td>\n",
       "      <td>4</td>\n",
       "    </tr>\n",
       "  </tbody>\n",
       "</table>\n",
       "</div>"
      ],
      "text/plain": [
       "        id                                               name   host_id  \\\n",
       "0  2302715                                          guilherme  11706874   \n",
       "1  2304688                                    OLIMPÍADAS 2016  10405816   \n",
       "2  2306547  Amplo Apto com 3 Dormitórios em Copacabana - 1...   4107346   \n",
       "3  2306767                         Studio in Copacabana Beach  11386725   \n",
       "4  2308385                            Copacabana Ótima opção!  11788583   \n",
       "\n",
       "    host_name neighbourhood  latitude  longitude        room_type   price  \\\n",
       "0   Guilherme          Anil -22.95221  -43.32944  Entire home/apt  2700.0   \n",
       "1      Eurico       Ipanema -22.98767  -43.18991  Entire home/apt   837.0   \n",
       "2  Vera Lucia    Copacabana -22.97333  -43.18857  Entire home/apt   800.0   \n",
       "3    Carolina    Copacabana -22.96477  -43.17605  Entire home/apt   190.0   \n",
       "4        Ivan    Copacabana -22.96820  -43.18523  Entire home/apt   220.0   \n",
       "\n",
       "   minimum_nights  number_of_reviews last_review  reviews_per_month  \\\n",
       "0              10                  0         NaN           1.263767   \n",
       "1               7                  0         NaN           1.263767   \n",
       "2               5                 13  2025-03-05           0.210000   \n",
       "3               3                193  2025-03-03           1.440000   \n",
       "4               2                 28  2025-03-01           0.210000   \n",
       "\n",
       "   calculated_host_listings_count  availability_365  number_of_reviews_ltm  \n",
       "0                               1               365                      0  \n",
       "1                               1               365                      0  \n",
       "2                               1               257                      3  \n",
       "3                               6                66                     19  \n",
       "4                               1               242                      4  "
      ]
     },
     "execution_count": 16,
     "metadata": {},
     "output_type": "execute_result"
    }
   ],
   "source": [
    "df.head()"
   ]
  },
  {
   "cell_type": "code",
   "execution_count": 17,
   "id": "1e6c228c",
   "metadata": {},
   "outputs": [
    {
     "data": {
      "text/plain": [
       "room_type\n",
       "Entire home/apt    33581\n",
       "Private room        8004\n",
       "Shared room          404\n",
       "Hotel room            24\n",
       "Name: count, dtype: int64"
      ]
     },
     "execution_count": 17,
     "metadata": {},
     "output_type": "execute_result"
    }
   ],
   "source": [
    "contagem_quartos = df['room_type'].value_counts()\n",
    "contagem_quartos"
   ]
  },
  {
   "cell_type": "code",
   "execution_count": 24,
   "id": "a9b82331",
   "metadata": {},
   "outputs": [
    {
     "data": {
      "text/plain": [
       "Text(0, 0.5, 'Quantidade de imóveis')"
      ]
     },
     "execution_count": 24,
     "metadata": {},
     "output_type": "execute_result"
    },
    {
     "data": {
      "image/png": "[encoded data removed]",
      "text/plain": [
       "<Figure size 640x480 with 1 Axes>"
      ]
     },
     "metadata": {},
     "output_type": "display_data"
    }
   ],
   "source": [
    "plt.bar(contagem_quartos.index, contagem_quartos.values)\n",
    "plt.title('Tipos de imóveis mais comuns')\n",
    "plt.xlabel('Tipo de Imóvel')\n",
    "plt.ylabel('Quantidade de imóveis')"
   ]
  },
  {
   "cell_type": "code",
   "execution_count": 19,
   "id": "62cded3f",
   "metadata": {},
   "outputs": [
    {
     "data": {
      "text/plain": [
       "<Axes: >"
      ]
     },
     "execution_count": 19,
     "metadata": {},
     "output_type": "execute_result"
    },
    {
     "data": {
      "image/png": "[encoded data removed]",
      "text/plain": [
       "<Figure size 640x480 with 1 Axes>"
      ]
     },
     "metadata": {},
     "output_type": "display_data"
    }
   ],
   "source": [
    "df['price'].plot(kind='box')"
   ]
  }
 ],
 "metadata": {
  "kernelspec": {
   "display_name": "Python 3",
   "language": "python",
   "name": "python3"
  },
  "language_info": {
   "codemirror_mode": {
    "name": "ipython",
    "version": 3
   },
   "file_extension": ".py",
   "mimetype": "text/x-python",
   "name": "python",
   "nbconvert_exporter": "python",
   "pygments_lexer": "ipython3",
   "version": "3.13.5"
  }
 },
 "nbformat": 4,
 "nbformat_minor": 5
}
